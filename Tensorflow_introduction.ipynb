{
  "nbformat": 4,
  "nbformat_minor": 0,
  "metadata": {
    "colab": {
      "name": "Tensorflow_introduction.ipynb",
      "provenance": [],
      "authorship_tag": "ABX9TyNbh2LtgCJm2G7BJom1IBPs",
      "include_colab_link": true
    },
    "kernelspec": {
      "name": "python3",
      "display_name": "Python 3"
    }
  },
  "cells": [
    {
      "cell_type": "markdown",
      "metadata": {
        "id": "view-in-github",
        "colab_type": "text"
      },
      "source": [
        "<a href=\"https://colab.research.google.com/github/vamshi-kb/Covid19-Detection-Using-Chest-X-Ray/blob/master/Tensorflow_introduction.ipynb\" target=\"_parent\"><img src=\"https://colab.research.google.com/assets/colab-badge.svg\" alt=\"Open In Colab\"/></a>"
      ]
    },
    {
      "cell_type": "code",
      "metadata": {
        "id": "Fkk5HSiKpTPR"
      },
      "source": [
        "import tensorflow as tf\n",
        "import numpy as np\n",
        "from termcolor import colored"
      ],
      "execution_count": null,
      "outputs": []
    },
    {
      "cell_type": "code",
      "metadata": {
        "id": "VfRsPjHRpV4r",
        "outputId": "82a7947f-d21f-41ab-a7a8-7497e2639a25",
        "colab": {
          "base_uri": "https://localhost:8080/",
          "height": 34
        }
      },
      "source": [
        "print(('Your TensorFlow version: {0}').format(tf.__version__))"
      ],
      "execution_count": null,
      "outputs": [
        {
          "output_type": "stream",
          "text": [
            "Your TensorFlow version: 2.3.0\n"
          ],
          "name": "stdout"
        }
      ]
    },
    {
      "cell_type": "code",
      "metadata": {
        "id": "G1zZ6DBOp9Lm",
        "outputId": "dd405b36-b1d6-4bb3-f497-f364e4ae5943",
        "colab": {
          "base_uri": "https://localhost:8080/",
          "height": 187
        }
      },
      "source": [
        "import time\n",
        "cpu_slot=0\n",
        "gpu_slot=0\n",
        "\n",
        "#Using CPU at slot 0\n",
        "with tf.device('/CPU:'+str(cpu_slot)):\n",
        "  #Starting timer\n",
        "  start=time.time()\n",
        "\n",
        "  #Doing operations on CPU\n",
        "  A=tf.constant([[3,2],[5,2]])\n",
        "  B=tf.constant([[3,2],[5,2]])\n",
        "  print(A+B)\n",
        "\n",
        "  end=time.time()- start\n",
        "  print(\"using CPU\", end)\n",
        "  print(\"\\n\")\n",
        "\n",
        "#Using the GPU at slot0\n",
        "with tf.device('/GPU:'+str(gpu_slot)):\n",
        "  #Starting timer\n",
        "  start=time.time()\n",
        "\n",
        "  #Doing operations on CPU\n",
        "  A=tf.constant([[3,2],[5,2]])\n",
        "  B=tf.constant([[3,2],[5,2]])\n",
        "  print(A+B)\n",
        "\n",
        "  # Printing how long it took with CPU\n",
        "  end = time.time() - start\n",
        "  print(\"using Gpu\",end)"
      ],
      "execution_count": null,
      "outputs": [
        {
          "output_type": "stream",
          "text": [
            "tf.Tensor(\n",
            "[[ 6  4]\n",
            " [10  4]], shape=(2, 2), dtype=int32)\n",
            "using CPU 0.0007894039154052734\n",
            "\n",
            "\n",
            "tf.Tensor(\n",
            "[[ 6  4]\n",
            " [10  4]], shape=(2, 2), dtype=int32)\n",
            "using Gpu 0.0014758110046386719\n"
          ],
          "name": "stdout"
        }
      ]
    },
    {
      "cell_type": "markdown",
      "metadata": {
        "id": "OkujkpnJsGYU"
      },
      "source": [
        "TensorFlow programs use a data structure called tensor to represent all the data. Any type of data you plan to use for your model can be stored in Tensors. \n",
        "Simply put, a Tensor is a multi-dimensional array (0-D tensor: scalar, 1-D tensor: vector, 2-D tensor: matrix, and so on). \n",
        "Hence, TensorFlow is simply referring to the flow of the Tensors in the computational graph.\n",
        "\n",
        "Tensor is multi dimensional array\n",
        "\n",
        "A scalar is rank_0_tensor\n",
        "\n",
        "A vector is rank_1_tensor\n",
        "\n",
        "A matrix is rank_2_tensor"
      ]
    },
    {
      "cell_type": "markdown",
      "metadata": {
        "id": "TEKJhSSusZ0x"
      },
      "source": [
        "**Scalar**"
      ]
    },
    {
      "cell_type": "code",
      "metadata": {
        "id": "QmFJeZVoshEM",
        "outputId": "c33aa4a5-7778-46ea-aac1-c46dedd3a835",
        "colab": {
          "base_uri": "https://localhost:8080/",
          "height": 34
        }
      },
      "source": [
        "x=tf.constant(3.0)\n",
        "print(x,x.dtype)"
      ],
      "execution_count": null,
      "outputs": [
        {
          "output_type": "stream",
          "text": [
            "tf.Tensor(3.0, shape=(), dtype=float32) <dtype: 'float32'>\n"
          ],
          "name": "stdout"
        }
      ]
    },
    {
      "cell_type": "markdown",
      "metadata": {
        "id": "afLgtxVTsviT"
      },
      "source": [
        "Vector"
      ]
    },
    {
      "cell_type": "code",
      "metadata": {
        "id": "NcMLeHbSsiOw",
        "outputId": "3f36c019-e76a-4630-8e28-089942089ef8",
        "colab": {
          "base_uri": "https://localhost:8080/",
          "height": 34
        }
      },
      "source": [
        "x=tf.constant([3,5,7])\n",
        "print(x)"
      ],
      "execution_count": null,
      "outputs": [
        {
          "output_type": "stream",
          "text": [
            "tf.Tensor([3 5 7], shape=(3,), dtype=int32)\n"
          ],
          "name": "stdout"
        }
      ]
    },
    {
      "cell_type": "markdown",
      "metadata": {
        "id": "GsnFM0nDuXjn"
      },
      "source": [
        "Matrix"
      ]
    },
    {
      "cell_type": "code",
      "metadata": {
        "id": "uk-bjaKksuU1",
        "outputId": "b8ab91fd-f554-469e-9600-fdb1d39358da",
        "colab": {
          "base_uri": "https://localhost:8080/",
          "height": 68
        }
      },
      "source": [
        "x=tf.constant([[3,5,7],[3,5,7]])\n",
        "print(x)"
      ],
      "execution_count": null,
      "outputs": [
        {
          "output_type": "stream",
          "text": [
            "tf.Tensor(\n",
            "[[3 5 7]\n",
            " [3 5 7]], shape=(2, 3), dtype=int32)\n"
          ],
          "name": "stdout"
        }
      ]
    },
    {
      "cell_type": "markdown",
      "metadata": {
        "id": "6-StrXYDuQ7n"
      },
      "source": [
        "Tensor"
      ]
    },
    {
      "cell_type": "code",
      "metadata": {
        "id": "EcsyXPY9uR6h",
        "outputId": "b9f00a84-5810-4832-b2e7-ec7dcaa0ec3c",
        "colab": {
          "base_uri": "https://localhost:8080/",
          "height": 85
        }
      },
      "source": [
        "x=tf.constant([[3,5,7],[3,5,7],[3,5,7]])\n",
        "print(x)"
      ],
      "execution_count": null,
      "outputs": [
        {
          "output_type": "stream",
          "text": [
            "tf.Tensor(\n",
            "[[3 5 7]\n",
            " [3 5 7]\n",
            " [3 5 7]], shape=(3, 3), dtype=int32)\n"
          ],
          "name": "stdout"
        }
      ]
    },
    {
      "cell_type": "markdown",
      "metadata": {
        "id": "T2gXVCYbuSQY"
      },
      "source": [
        "Stacking"
      ]
    },
    {
      "cell_type": "code",
      "metadata": {
        "id": "wbM_0lhnuSh-",
        "outputId": "dec163d3-70d1-4ee0-a6cf-83ded65197a6",
        "colab": {
          "base_uri": "https://localhost:8080/",
          "height": 34
        }
      },
      "source": [
        "a=tf.constant(3)\n",
        "print(a)"
      ],
      "execution_count": null,
      "outputs": [
        {
          "output_type": "stream",
          "text": [
            "tf.Tensor(3, shape=(), dtype=int32)\n"
          ],
          "name": "stdout"
        }
      ]
    },
    {
      "cell_type": "code",
      "metadata": {
        "id": "qK993LeSui3V",
        "outputId": "575f8dd9-931f-419a-9240-000c257e30a4",
        "colab": {
          "base_uri": "https://localhost:8080/",
          "height": 34
        }
      },
      "source": [
        "b=tf.stack([a,a])\n",
        "print(b)"
      ],
      "execution_count": null,
      "outputs": [
        {
          "output_type": "stream",
          "text": [
            "tf.Tensor([3 3], shape=(2,), dtype=int32)\n"
          ],
          "name": "stdout"
        }
      ]
    },
    {
      "cell_type": "code",
      "metadata": {
        "id": "kjSELjLrulEr",
        "outputId": "ec09fd2d-47fa-4b20-b143-943c2cd0c177",
        "colab": {
          "base_uri": "https://localhost:8080/",
          "height": 68
        }
      },
      "source": [
        "c=tf.stack([b,b])\n",
        "print(c)"
      ],
      "execution_count": null,
      "outputs": [
        {
          "output_type": "stream",
          "text": [
            "tf.Tensor(\n",
            "[[3 3]\n",
            " [3 3]], shape=(2, 2), dtype=int32)\n"
          ],
          "name": "stdout"
        }
      ]
    },
    {
      "cell_type": "markdown",
      "metadata": {
        "id": "4N9Hg_Ahu11O"
      },
      "source": [
        "Slicing"
      ]
    },
    {
      "cell_type": "code",
      "metadata": {
        "id": "G8p0L_TNuqL3",
        "outputId": "cb5d5534-4c35-453e-85e6-dc5071e75714",
        "colab": {
          "base_uri": "https://localhost:8080/",
          "height": 34
        }
      },
      "source": [
        "a=tf.constant([[1,2,3],[4,5,6]])\n",
        "# print(a)\n",
        "\n",
        "sliced_a=a[:,1]\n",
        "print(sliced_a)"
      ],
      "execution_count": null,
      "outputs": [
        {
          "output_type": "stream",
          "text": [
            "tf.Tensor([2 5], shape=(2,), dtype=int32)\n"
          ],
          "name": "stdout"
        }
      ]
    },
    {
      "cell_type": "code",
      "metadata": {
        "id": "HblpQp9Vu62k",
        "outputId": "1c0e6f79-790c-4e3c-880a-ca4019a60b99",
        "colab": {
          "base_uri": "https://localhost:8080/",
          "height": 34
        }
      },
      "source": [
        "sliced_b=a[0,:]\n",
        "print(sliced_b)"
      ],
      "execution_count": null,
      "outputs": [
        {
          "output_type": "stream",
          "text": [
            "tf.Tensor([1 2 3], shape=(3,), dtype=int32)\n"
          ],
          "name": "stdout"
        }
      ]
    },
    {
      "cell_type": "markdown",
      "metadata": {
        "id": "VuS5lUqavgHP"
      },
      "source": [
        "Reshaping"
      ]
    },
    {
      "cell_type": "code",
      "metadata": {
        "id": "tV2kXfDavXI2",
        "outputId": "895a9ffe-d9cc-4fe8-cdd7-583b6506b0cf",
        "colab": {
          "base_uri": "https://localhost:8080/",
          "height": 85
        }
      },
      "source": [
        "reshaped_a=tf.reshape(a,[3,2])\n",
        "print(reshaped_a)"
      ],
      "execution_count": null,
      "outputs": [
        {
          "output_type": "stream",
          "text": [
            "tf.Tensor(\n",
            "[[1 2]\n",
            " [3 4]\n",
            " [5 6]], shape=(3, 2), dtype=int32)\n"
          ],
          "name": "stdout"
        }
      ]
    },
    {
      "cell_type": "markdown",
      "metadata": {
        "id": "NQoN6DJ4vulO"
      },
      "source": [
        "Variable"
      ]
    },
    {
      "cell_type": "code",
      "metadata": {
        "id": "9Qrh0ZQovqfU",
        "outputId": "5d3b09b3-41ef-46aa-9768-2d0972775465",
        "colab": {
          "base_uri": "https://localhost:8080/",
          "height": 34
        }
      },
      "source": [
        "var=tf.Variable([2,3],dtype=tf.int32,name='Var')\n",
        "print(var)"
      ],
      "execution_count": null,
      "outputs": [
        {
          "output_type": "stream",
          "text": [
            "<tf.Variable 'Var:0' shape=(2,) dtype=int32, numpy=array([2, 3], dtype=int32)>\n"
          ],
          "name": "stdout"
        }
      ]
    },
    {
      "cell_type": "code",
      "metadata": {
        "id": "ZDlcz6fUwEKn",
        "outputId": "eac9cadd-c295-4050-d870-c552d762fb4e",
        "colab": {
          "base_uri": "https://localhost:8080/",
          "height": 68
        }
      },
      "source": [
        "print(\"Shape:\",var.shape)\n",
        "print(\"Dtype:\",var.dtype)\n",
        "print(\"As Numpy\",var.numpy)"
      ],
      "execution_count": null,
      "outputs": [
        {
          "output_type": "stream",
          "text": [
            "Shape: (2,)\n",
            "Dtype: <dtype: 'int32'>\n",
            "As Numpy <bound method BaseResourceVariable.numpy of <tf.Variable 'Var:0' shape=(2,) dtype=int32, numpy=array([2, 3], dtype=int32)>>\n"
          ],
          "name": "stdout"
        }
      ]
    },
    {
      "cell_type": "code",
      "metadata": {
        "id": "pbQtySC3wVqP",
        "outputId": "1eb9ae95-8ad1-451d-d546-5988b574e43c",
        "colab": {
          "base_uri": "https://localhost:8080/",
          "height": 34
        }
      },
      "source": [
        "var_add=var.assign_add([3,4])\n",
        "print(var_add)"
      ],
      "execution_count": null,
      "outputs": [
        {
          "output_type": "stream",
          "text": [
            "<tf.Variable 'UnreadVariable' shape=(2,) dtype=int32, numpy=array([5, 7], dtype=int32)>\n"
          ],
          "name": "stdout"
        }
      ]
    },
    {
      "cell_type": "code",
      "metadata": {
        "id": "DHq3p1iRwotL",
        "outputId": "92e1edf0-f23b-4453-b0cd-0da01c788e08",
        "colab": {
          "base_uri": "https://localhost:8080/",
          "height": 34
        }
      },
      "source": [
        "var_sub=var_add.assign_sub([1,1])\n",
        "print(var_sub)"
      ],
      "execution_count": null,
      "outputs": [
        {
          "output_type": "stream",
          "text": [
            "<tf.Variable 'UnreadVariable' shape=(2,) dtype=int32, numpy=array([4, 6], dtype=int32)>\n"
          ],
          "name": "stdout"
        }
      ]
    },
    {
      "cell_type": "markdown",
      "metadata": {
        "id": "20E4DzVCw8-E"
      },
      "source": [
        "Operations"
      ]
    },
    {
      "cell_type": "code",
      "metadata": {
        "id": "idbVU25Qw7Cf",
        "outputId": "ea293ab2-abd0-4fce-8d6f-6ccfb7177e59",
        "colab": {
          "base_uri": "https://localhost:8080/",
          "height": 323
        }
      },
      "source": [
        "a = tf.constant([[1, 2],\n",
        "                 [3, 4]])\n",
        "print(a)\n",
        "\n",
        "b= tf.constant([[1, 2],\n",
        "                 [3, 4]])\n",
        "\n",
        "print(b)\n",
        "\n",
        "print(colored(\"Addition\\n\",\"blue\"),a+b)# all other operations\n",
        "print(colored(\"element wise multiplication\\n\", \"blue\"),a*b) # element-wise multiplication\n",
        "print(colored(\"matrix multiplication\\n\", \"blue\"),a @b ) # matrix multiplication"
      ],
      "execution_count": null,
      "outputs": [
        {
          "output_type": "stream",
          "text": [
            "tf.Tensor(\n",
            "[[1 2]\n",
            " [3 4]], shape=(2, 2), dtype=int32)\n",
            "tf.Tensor(\n",
            "[[1 2]\n",
            " [3 4]], shape=(2, 2), dtype=int32)\n",
            "\u001b[34mAddition\n",
            "\u001b[0m tf.Tensor(\n",
            "[[2 4]\n",
            " [6 8]], shape=(2, 2), dtype=int32)\n",
            "\u001b[34melement wise multiplication\n",
            "\u001b[0m tf.Tensor(\n",
            "[[ 1  4]\n",
            " [ 9 16]], shape=(2, 2), dtype=int32)\n",
            "\u001b[34mmatrix multiplication\n",
            "\u001b[0m tf.Tensor(\n",
            "[[ 7 10]\n",
            " [15 22]], shape=(2, 2), dtype=int32)\n"
          ],
          "name": "stdout"
        }
      ]
    },
    {
      "cell_type": "markdown",
      "metadata": {
        "id": "DYZeK7hJxnrT"
      },
      "source": [
        "Other useful Operations"
      ]
    },
    {
      "cell_type": "code",
      "metadata": {
        "id": "1R-DlEuGxDlr",
        "outputId": "bdfbb5b9-da54-44a7-cc28-2681d6e187a0",
        "colab": {
          "base_uri": "https://localhost:8080/",
          "height": 102
        }
      },
      "source": [
        "c = tf.constant([[1.0, 2.0],\n",
        "                 [3.0, 5.0]])\n",
        "\n",
        "# Find the largest value\n",
        "print(tf.reduce_max(c))\n",
        "# Find the index of the largest value\n",
        "print(tf.argmax(c))\n",
        "# Compute the softmax\n",
        "print(tf.nn.softmax(c))"
      ],
      "execution_count": null,
      "outputs": [
        {
          "output_type": "stream",
          "text": [
            "tf.Tensor(5.0, shape=(), dtype=float32)\n",
            "tf.Tensor([1 1], shape=(2,), dtype=int64)\n",
            "tf.Tensor(\n",
            "[[0.26894143 0.7310586 ]\n",
            " [0.11920291 0.880797  ]], shape=(2, 2), dtype=float32)\n"
          ],
          "name": "stdout"
        }
      ]
    },
    {
      "cell_type": "markdown",
      "metadata": {
        "id": "g1loGYHVyj9j"
      },
      "source": [
        "Zeros"
      ]
    },
    {
      "cell_type": "code",
      "metadata": {
        "id": "ZWRxRgAoxumP",
        "outputId": "2f69caf8-8b13-4d30-9a65-c835b21742b6",
        "colab": {
          "base_uri": "https://localhost:8080/",
          "height": 85
        }
      },
      "source": [
        "tf.zeros(shape=[3, 3], dtype=tf.int32)"
      ],
      "execution_count": null,
      "outputs": [
        {
          "output_type": "execute_result",
          "data": {
            "text/plain": [
              "<tf.Tensor: shape=(3, 3), dtype=int32, numpy=\n",
              "array([[0, 0, 0],\n",
              "       [0, 0, 0],\n",
              "       [0, 0, 0]], dtype=int32)>"
            ]
          },
          "metadata": {
            "tags": []
          },
          "execution_count": 43
        }
      ]
    },
    {
      "cell_type": "markdown",
      "metadata": {
        "id": "GflxmAV7yoD9"
      },
      "source": [
        "Ones"
      ]
    },
    {
      "cell_type": "code",
      "metadata": {
        "id": "dl7HtP_5ymNi",
        "outputId": "fb79ee52-b692-4e9a-94dc-8a8f9f26a32c",
        "colab": {
          "base_uri": "https://localhost:8080/",
          "height": 85
        }
      },
      "source": [
        "tf.ones(shape=[3,3],dtype=tf.float32)"
      ],
      "execution_count": null,
      "outputs": [
        {
          "output_type": "execute_result",
          "data": {
            "text/plain": [
              "<tf.Tensor: shape=(3, 3), dtype=float32, numpy=\n",
              "array([[1., 1., 1.],\n",
              "       [1., 1., 1.],\n",
              "       [1., 1., 1.]], dtype=float32)>"
            ]
          },
          "metadata": {
            "tags": []
          },
          "execution_count": 46
        }
      ]
    },
    {
      "cell_type": "markdown",
      "metadata": {
        "id": "lKdehQtfy52U"
      },
      "source": [
        "Cast types"
      ]
    },
    {
      "cell_type": "code",
      "metadata": {
        "id": "ThWFFQkDy8Ev",
        "outputId": "267f0f31-1661-4390-ffdb-6b2a571bc159",
        "colab": {
          "base_uri": "https://localhost:8080/",
          "height": 102
        }
      },
      "source": [
        "tensor = tf.constant([[3.1, 2.8],\n",
        "                      [5.2, 2.3],\n",
        "                      [9.7, 5.5],\n",
        "                      [1.1, 3.4]], \n",
        "                      dtype=tf.float32)\n",
        "\n",
        "tensor_as_int = tf.cast(tensor, tf.int32)\n",
        "print(tensor_as_int)"
      ],
      "execution_count": null,
      "outputs": [
        {
          "output_type": "stream",
          "text": [
            "tf.Tensor(\n",
            "[[3 2]\n",
            " [5 2]\n",
            " [9 5]\n",
            " [1 3]], shape=(4, 2), dtype=int32)\n"
          ],
          "name": "stdout"
        }
      ]
    },
    {
      "cell_type": "markdown",
      "metadata": {
        "id": "StihP1Hky3Cc"
      },
      "source": [
        "Function"
      ]
    },
    {
      "cell_type": "code",
      "metadata": {
        "id": "2sPhGBSzyvmb",
        "outputId": "dc75ef17-7110-4df0-d5cf-b2aa91db157c",
        "colab": {
          "base_uri": "https://localhost:8080/",
          "height": 34
        }
      },
      "source": [
        "\n",
        "# Define a Python function\n",
        "def function_to_get_faster(x, y, b):\n",
        "  x = tf.matmul(x, y)\n",
        "  x = x + b\n",
        "  return x\n",
        "\n",
        "# Create a `Function` object that contains a graph\n",
        "a_function_that_uses_a_graph = tf.function(function_to_get_faster)\n",
        "\n",
        "# Make some tensors\n",
        "x1 = tf.constant([[1.0, 2.0]])\n",
        "y1 = tf.constant([[2.0], [3.0]])\n",
        "b1 = tf.constant(4.0)\n",
        "\n",
        "# It just works!\n",
        "a_function_that_uses_a_graph(x1, y1, b1)"
      ],
      "execution_count": null,
      "outputs": [
        {
          "output_type": "execute_result",
          "data": {
            "text/plain": [
              "<tf.Tensor: shape=(1, 1), dtype=float32, numpy=array([[12.]], dtype=float32)>"
            ]
          },
          "metadata": {
            "tags": []
          },
          "execution_count": 49
        }
      ]
    },
    {
      "cell_type": "code",
      "metadata": {
        "id": "nJZPetW9zkQi",
        "outputId": "2ec3d506-b078-4cf2-866e-df71720f6fdc",
        "colab": {
          "base_uri": "https://localhost:8080/",
          "height": 34
        }
      },
      "source": [
        "print(x1)"
      ],
      "execution_count": null,
      "outputs": [
        {
          "output_type": "stream",
          "text": [
            "tf.Tensor([[1. 2.]], shape=(1, 2), dtype=float32)\n"
          ],
          "name": "stdout"
        }
      ]
    },
    {
      "cell_type": "code",
      "metadata": {
        "id": "Ank_cYnqzxUn",
        "outputId": "dd20acfb-4b27-4349-bf85-4f403e5915fd",
        "colab": {
          "base_uri": "https://localhost:8080/",
          "height": 68
        }
      },
      "source": [
        "print(y1)"
      ],
      "execution_count": null,
      "outputs": [
        {
          "output_type": "stream",
          "text": [
            "tf.Tensor(\n",
            "[[2.]\n",
            " [3.]], shape=(2, 1), dtype=float32)\n"
          ],
          "name": "stdout"
        }
      ]
    },
    {
      "cell_type": "code",
      "metadata": {
        "id": "UUAINVQCzzGy",
        "outputId": "3b01b9c8-380c-4a00-e19b-bb995eacb185",
        "colab": {
          "base_uri": "https://localhost:8080/",
          "height": 34
        }
      },
      "source": [
        "print(b1)"
      ],
      "execution_count": null,
      "outputs": [
        {
          "output_type": "stream",
          "text": [
            "tf.Tensor(4.0, shape=(), dtype=float32)\n"
          ],
          "name": "stdout"
        }
      ]
    },
    {
      "cell_type": "markdown",
      "metadata": {
        "id": "iZWScjhh0YoI"
      },
      "source": [
        "Graph\n",
        "\n",
        "Graphs are data structures that contain a set of tf.Operation objects, which represent units of computation; and tf.Tensor objects, which represent the units of data that flow between operations.\n",
        "\n",
        "The way you create a graph in TensorFlow is to use tf.function, either as a direct call or as a decorator."
      ]
    },
    {
      "cell_type": "code",
      "metadata": {
        "id": "uB-BEIx10V-h",
        "outputId": "ed3994d8-236c-404a-9eff-870185b8f0ee",
        "colab": {
          "base_uri": "https://localhost:8080/",
          "height": 255
        }
      },
      "source": [
        "# Don't read the output too carefully.\n",
        "print(tf.autograph.to_code(function_to_get_faster))"
      ],
      "execution_count": null,
      "outputs": [
        {
          "output_type": "stream",
          "text": [
            "def tf__function_to_get_faster(x, y, b):\n",
            "    with ag__.FunctionScope('function_to_get_faster', 'fscope', ag__.ConversionOptions(recursive=True, user_requested=True, optional_features=(), internal_convert_user_code=True)) as fscope:\n",
            "        do_return = False\n",
            "        retval_ = ag__.UndefinedReturnValue()\n",
            "        x = ag__.converted_call(ag__.ld(tf).matmul, (ag__.ld(x), ag__.ld(y)), None, fscope)\n",
            "        x = (ag__.ld(x) + ag__.ld(b))\n",
            "        try:\n",
            "            do_return = True\n",
            "            retval_ = ag__.ld(x)\n",
            "        except:\n",
            "            do_return = False\n",
            "            raise\n",
            "        return fscope.ret(retval_, do_return)\n",
            "\n"
          ],
          "name": "stdout"
        }
      ]
    },
    {
      "cell_type": "markdown",
      "metadata": {
        "id": "l8PgGVuF19lB"
      },
      "source": [
        "Feed Forward"
      ]
    },
    {
      "cell_type": "code",
      "metadata": {
        "id": "ThqlME2q0rz8"
      },
      "source": [
        "n_input=4\n",
        "n_hidden1=3\n",
        "n_hidden2=3\n",
        "n_output=2\n",
        "\n",
        "weights = {\n",
        "    'w1': tf.Variable(tf.random.truncated_normal([n_input, n_hidden1], stddev=0.1)),\n",
        "    'w2': tf.Variable(tf.random.truncated_normal([n_hidden1, n_hidden2], stddev=0.1)),\n",
        "    'out': tf.Variable(tf.random.truncated_normal([n_hidden2, n_output], stddev=0.1)),\n",
        "}\n",
        "biases = {\n",
        "    'b1': tf.Variable(tf.constant(0.1, shape=[n_hidden1])),\n",
        "    'b2': tf.Variable(tf.constant(0.1, shape=[n_hidden2])),\n",
        "    'out': tf.Variable(tf.constant(0.1, shape=[n_output]))\n",
        "}"
      ],
      "execution_count": null,
      "outputs": []
    },
    {
      "cell_type": "code",
      "metadata": {
        "id": "EVNWKl9m2DN0",
        "outputId": "6c0cd8b3-df69-42d3-b107-6e87d6732e39",
        "colab": {
          "base_uri": "https://localhost:8080/",
          "height": 34
        }
      },
      "source": [
        "weights['w1'].shape"
      ],
      "execution_count": null,
      "outputs": [
        {
          "output_type": "execute_result",
          "data": {
            "text/plain": [
              "TensorShape([4, 3])"
            ]
          },
          "metadata": {
            "tags": []
          },
          "execution_count": 55
        }
      ]
    },
    {
      "cell_type": "code",
      "metadata": {
        "id": "r902T06G2JFv",
        "outputId": "06662bf6-1519-45cd-96a3-ebee373d2140",
        "colab": {
          "base_uri": "https://localhost:8080/",
          "height": 34
        }
      },
      "source": [
        "weights['w2'].shape"
      ],
      "execution_count": null,
      "outputs": [
        {
          "output_type": "execute_result",
          "data": {
            "text/plain": [
              "TensorShape([3, 3])"
            ]
          },
          "metadata": {
            "tags": []
          },
          "execution_count": 56
        }
      ]
    },
    {
      "cell_type": "code",
      "metadata": {
        "id": "XVQLeVkJ2Kwl",
        "outputId": "0a8a5415-a345-47ed-da22-77b248f01cbc",
        "colab": {
          "base_uri": "https://localhost:8080/",
          "height": 34
        }
      },
      "source": [
        "biases['out'].shape"
      ],
      "execution_count": null,
      "outputs": [
        {
          "output_type": "execute_result",
          "data": {
            "text/plain": [
              "TensorShape([2])"
            ]
          },
          "metadata": {
            "tags": []
          },
          "execution_count": 57
        }
      ]
    },
    {
      "cell_type": "code",
      "metadata": {
        "id": "hHX1EfVy2MoJ",
        "outputId": "e4aec23f-d7a2-4e23-c69f-692d7445dfc6",
        "colab": {
          "base_uri": "https://localhost:8080/",
          "height": 34
        }
      },
      "source": [
        "weights['out'].shape"
      ],
      "execution_count": null,
      "outputs": [
        {
          "output_type": "execute_result",
          "data": {
            "text/plain": [
              "TensorShape([3, 2])"
            ]
          },
          "metadata": {
            "tags": []
          },
          "execution_count": 60
        }
      ]
    },
    {
      "cell_type": "code",
      "metadata": {
        "id": "zdUaNRp82jJU"
      },
      "source": [
        "x=tf.Variable([[1.0, 2.0, 3.0,4.0], [4.0, 5.0, 6.0,7.0],[7.0,8.0,9.0,10.0]])\n",
        "output=tf.Variable([[1.0, 2.0], [4.0, 5.0],[6.0,5.0]])"
      ],
      "execution_count": null,
      "outputs": []
    },
    {
      "cell_type": "code",
      "metadata": {
        "id": "WTRcJeVk2q68",
        "outputId": "a277bf1c-78c6-47a2-8e21-e7a760b73928",
        "colab": {
          "base_uri": "https://localhost:8080/",
          "height": 34
        }
      },
      "source": [
        "output.shape"
      ],
      "execution_count": null,
      "outputs": [
        {
          "output_type": "execute_result",
          "data": {
            "text/plain": [
              "TensorShape([3, 2])"
            ]
          },
          "metadata": {
            "tags": []
          },
          "execution_count": 62
        }
      ]
    },
    {
      "cell_type": "code",
      "metadata": {
        "id": "Jvlw2HoA2rsX"
      },
      "source": [
        "hidden_1 = tf.nn.sigmoid(tf.add(tf.matmul(x, weights['w1']),biases['b1']))  # hidden value calc\n",
        "hidden_2 = tf.nn.sigmoid(tf.add(tf.matmul(hidden_1, weights['w2']),biases['b2']))\n",
        "y_hat = tf.tanh(tf.add(tf.matmul(hidden_2,weights['out']),biases['out'])) "
      ],
      "execution_count": null,
      "outputs": []
    },
    {
      "cell_type": "code",
      "metadata": {
        "id": "x-IG8gtb3sH0",
        "outputId": "5cf88f9d-7218-4924-a556-f5fc6325d7dd",
        "colab": {
          "base_uri": "https://localhost:8080/",
          "height": 85
        }
      },
      "source": [
        "y_hat"
      ],
      "execution_count": null,
      "outputs": [
        {
          "output_type": "execute_result",
          "data": {
            "text/plain": [
              "<tf.Tensor: shape=(3, 2), dtype=float32, numpy=\n",
              "array([[0.0531711 , 0.19447406],\n",
              "       [0.05346747, 0.19387846],\n",
              "       [0.05361878, 0.19356258]], dtype=float32)>"
            ]
          },
          "metadata": {
            "tags": []
          },
          "execution_count": 64
        }
      ]
    },
    {
      "cell_type": "code",
      "metadata": {
        "id": "5pAnVhJT3t2x"
      },
      "source": [
        "cce = tf.keras.losses.CategoricalCrossentropy()"
      ],
      "execution_count": null,
      "outputs": []
    },
    {
      "cell_type": "code",
      "metadata": {
        "id": "qj-0FZ4432jc",
        "outputId": "1aefce2f-0acf-4e98-905c-47bff23f9aa4",
        "colab": {
          "base_uri": "https://localhost:8080/",
          "height": 34
        }
      },
      "source": [
        "cce(y_hat, output).numpy()"
      ],
      "execution_count": null,
      "outputs": [
        {
          "output_type": "execute_result",
          "data": {
            "text/plain": [
              "0.15990017"
            ]
          },
          "metadata": {
            "tags": []
          },
          "execution_count": 66
        }
      ]
    },
    {
      "cell_type": "code",
      "metadata": {
        "id": "3eaFSV6838ht"
      },
      "source": [
        "mse = tf.keras.losses.MeanSquaredError(reduction=tf.keras.losses.Reduction.SUM)"
      ],
      "execution_count": null,
      "outputs": []
    },
    {
      "cell_type": "code",
      "metadata": {
        "id": "-i4oZpoV4smt",
        "outputId": "e6e18de3-f2dc-432d-da9c-acb8a067025a",
        "colab": {
          "base_uri": "https://localhost:8080/",
          "height": 34
        }
      },
      "source": [
        "mse(output, y_hat).numpy()"
      ],
      "execution_count": null,
      "outputs": [
        {
          "output_type": "execute_result",
          "data": {
            "text/plain": [
              "50.64581"
            ]
          },
          "metadata": {
            "tags": []
          },
          "execution_count": 68
        }
      ]
    },
    {
      "cell_type": "code",
      "metadata": {
        "id": "M0H9rH8h4uP3",
        "outputId": "b480720f-4abe-4962-ee81-cd8fafdf8d9d",
        "colab": {
          "base_uri": "https://localhost:8080/",
          "height": 34
        }
      },
      "source": [
        "tf.nn.sigmoid((1*0.3) + (1*0.4) +(0*0.5) +(0*0.5)+0.5)"
      ],
      "execution_count": null,
      "outputs": [
        {
          "output_type": "execute_result",
          "data": {
            "text/plain": [
              "<tf.Tensor: shape=(), dtype=float32, numpy=0.76852477>"
            ]
          },
          "metadata": {
            "tags": []
          },
          "execution_count": 69
        }
      ]
    },
    {
      "cell_type": "code",
      "metadata": {
        "id": "2_YgHt_c4xhW"
      },
      "source": [
        "output=tf.Variable([[1.0,0.0]])"
      ],
      "execution_count": null,
      "outputs": []
    },
    {
      "cell_type": "code",
      "metadata": {
        "id": "ygfgFUZz45El"
      },
      "source": [
        "y_hat=tf.Variable([[0.8037,0.1097]])"
      ],
      "execution_count": null,
      "outputs": []
    },
    {
      "cell_type": "code",
      "metadata": {
        "id": "ZMyuw63M46za",
        "outputId": "54d393ae-5605-40c4-e208-d209e719496b",
        "colab": {
          "base_uri": "https://localhost:8080/",
          "height": 34
        }
      },
      "source": [
        "mse = tf.keras.losses.MeanSquaredError()\n",
        "mse(output, y_hat).numpy()"
      ],
      "execution_count": null,
      "outputs": [
        {
          "output_type": "execute_result",
          "data": {
            "text/plain": [
              "0.025283895"
            ]
          },
          "metadata": {
            "tags": []
          },
          "execution_count": 72
        }
      ]
    },
    {
      "cell_type": "code",
      "metadata": {
        "id": "DrsgmFmaAvmy"
      },
      "source": [
        ""
      ],
      "execution_count": null,
      "outputs": []
    }
  ]
}